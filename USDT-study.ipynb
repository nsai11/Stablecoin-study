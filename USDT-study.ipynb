{
 "cells": [
  {
   "cell_type": "markdown",
   "id": "b770842e",
   "metadata": {},
   "source": [
    "## USDT Distribution - A Study"
   ]
  },
  {
   "cell_type": "markdown",
   "id": "6ac2a4cb",
   "metadata": {},
   "source": [
    "### Distribution of USDT into Wallets,Smart contracts and Exchanges"
   ]
  },
  {
   "cell_type": "code",
   "execution_count": 2,
   "id": "b9206a2f",
   "metadata": {},
   "outputs": [
    {
     "data": {
      "text/html": [
       "\n",
       "        <iframe\n",
       "            width=\"1200\"\n",
       "            height=\"600\"\n",
       "            src=\"./total_distribution_usdt.html\"\n",
       "            frameborder=\"0\"\n",
       "            allowfullscreen\n",
       "        ></iframe>\n",
       "        "
      ],
      "text/plain": [
       "<IPython.lib.display.IFrame at 0x7f9cd892da00>"
      ]
     },
     "execution_count": 2,
     "metadata": {},
     "output_type": "execute_result"
    }
   ],
   "source": [
    "IFrame(src='./total_distribution_usdt.html', width=1200, height=600)"
   ]
  },
  {
   "cell_type": "markdown",
   "id": "b41deb6b",
   "metadata": {},
   "source": [
    "### Running the numbers for USDT distribution"
   ]
  },
  {
   "cell_type": "markdown",
   "id": "ce27ee4f",
   "metadata": {},
   "source": [
    "<img src=\"total-usdt.png\" alt=\"Drawing\" style=\"width: 500px;height: 250px\"/>"
   ]
  },
  {
   "cell_type": "code",
   "execution_count": null,
   "id": "e0164776",
   "metadata": {},
   "outputs": [],
   "source": []
  },
  {
   "cell_type": "code",
   "execution_count": null,
   "id": "781b83f2",
   "metadata": {},
   "outputs": [],
   "source": []
  },
  {
   "cell_type": "markdown",
   "id": "5bf45ff2",
   "metadata": {},
   "source": [
    "### Distribution of USDT into Exchanges"
   ]
  },
  {
   "cell_type": "code",
   "execution_count": 4,
   "id": "05b450ab",
   "metadata": {},
   "outputs": [
    {
     "data": {
      "text/html": [
       "\n",
       "        <iframe\n",
       "            width=\"1000\"\n",
       "            height=\"800\"\n",
       "            src=\"./exchange_usdt.html\"\n",
       "            frameborder=\"0\"\n",
       "            allowfullscreen\n",
       "        ></iframe>\n",
       "        "
      ],
      "text/plain": [
       "<IPython.lib.display.IFrame at 0x7f9cd892d1c0>"
      ]
     },
     "execution_count": 4,
     "metadata": {},
     "output_type": "execute_result"
    }
   ],
   "source": [
    "IFrame(src='./exchange_usdt.html', width=1000, height=800)"
   ]
  },
  {
   "cell_type": "markdown",
   "id": "a022ee91",
   "metadata": {},
   "source": [
    "### Running the numbers for Exchange distribution"
   ]
  },
  {
   "cell_type": "markdown",
   "id": "d10654ab",
   "metadata": {},
   "source": [
    "<img src=\"exchange-usdt.png\" alt=\"Drawing\" style=\"width: 700px;height:400px\"/>"
   ]
  },
  {
   "cell_type": "code",
   "execution_count": null,
   "id": "505e5de0",
   "metadata": {},
   "outputs": [],
   "source": []
  },
  {
   "cell_type": "code",
   "execution_count": null,
   "id": "6e3bc508",
   "metadata": {},
   "outputs": [],
   "source": []
  },
  {
   "cell_type": "markdown",
   "id": "2641f779",
   "metadata": {},
   "source": [
    "### Distribution of USDT into Smart Contracts"
   ]
  },
  {
   "cell_type": "code",
   "execution_count": 20,
   "id": "6b01182c",
   "metadata": {},
   "outputs": [
    {
     "data": {
      "text/html": [
       "\n",
       "        <iframe\n",
       "            width=\"1400\"\n",
       "            height=\"800\"\n",
       "            src=\"./smart_contract_usdt.html\"\n",
       "            frameborder=\"0\"\n",
       "            allowfullscreen\n",
       "        ></iframe>\n",
       "        "
      ],
      "text/plain": [
       "<IPython.lib.display.IFrame at 0x7f9cd8983c40>"
      ]
     },
     "execution_count": 20,
     "metadata": {},
     "output_type": "execute_result"
    }
   ],
   "source": [
    "IFrame(src='./smart_contract_usdt.html', width=1400, height=800)"
   ]
  },
  {
   "cell_type": "markdown",
   "id": "76e48d43",
   "metadata": {},
   "source": [
    "### Running the numbers for Smart contract distribution"
   ]
  },
  {
   "cell_type": "markdown",
   "id": "41112014",
   "metadata": {},
   "source": [
    "<img src=\"smart-contract-usdt.png\" alt=\"Drawing\" style=\"width: 700px;height:400px\"/>"
   ]
  },
  {
   "cell_type": "code",
   "execution_count": null,
   "id": "5ac1d5c6",
   "metadata": {},
   "outputs": [],
   "source": []
  },
  {
   "cell_type": "code",
   "execution_count": null,
   "id": "acf1acfb",
   "metadata": {},
   "outputs": [],
   "source": []
  },
  {
   "cell_type": "markdown",
   "id": "28654ed9",
   "metadata": {},
   "source": [
    "### Distribution of USDT into other wallets"
   ]
  },
  {
   "cell_type": "code",
   "execution_count": 7,
   "id": "6b8c803a",
   "metadata": {},
   "outputs": [
    {
     "data": {
      "text/html": [
       "\n",
       "        <iframe\n",
       "            width=\"1000\"\n",
       "            height=\"800\"\n",
       "            src=\"./other_wallet_usdt.html\"\n",
       "            frameborder=\"0\"\n",
       "            allowfullscreen\n",
       "        ></iframe>\n",
       "        "
      ],
      "text/plain": [
       "<IPython.lib.display.IFrame at 0x7f9cd892d370>"
      ]
     },
     "execution_count": 7,
     "metadata": {},
     "output_type": "execute_result"
    }
   ],
   "source": [
    "IFrame(src='./other_wallet_usdt.html', width=1000, height=800)"
   ]
  },
  {
   "cell_type": "markdown",
   "id": "1c6de29b",
   "metadata": {},
   "source": [
    "### Running the numbers for other wallets distribution"
   ]
  },
  {
   "cell_type": "markdown",
   "id": "179889b2",
   "metadata": {},
   "source": [
    "<img src=\"other-wallet-usdt.png\" alt=\"Drawing\" style=\"width: 600px;height:300px\"/>"
   ]
  },
  {
   "cell_type": "code",
   "execution_count": null,
   "id": "23c6f197",
   "metadata": {},
   "outputs": [],
   "source": []
  }
 ],
 "metadata": {
  "kernelspec": {
   "display_name": "Python 3",
   "language": "python",
   "name": "python3"
  },
  "language_info": {
   "codemirror_mode": {
    "name": "ipython",
    "version": 3
   },
   "file_extension": ".py",
   "mimetype": "text/x-python",
   "name": "python",
   "nbconvert_exporter": "python",
   "pygments_lexer": "ipython3",
   "version": "3.8.8"
  }
 },
 "nbformat": 4,
 "nbformat_minor": 5
}
