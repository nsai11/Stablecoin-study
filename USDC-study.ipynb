{
 "cells": [
  {
   "cell_type": "markdown",
   "id": "fb7e3cd3",
   "metadata": {},
   "source": [
    "## USDC Distribution - A Study"
   ]
  },
  {
   "cell_type": "code",
   "execution_count": 24,
   "id": "fafeb74e-363f-4b96-8fee-19e82da222c5",
   "metadata": {},
   "outputs": [],
   "source": [
    "from IPython.display import IFrame"
   ]
  },
  {
   "cell_type": "markdown",
   "id": "8b8ba112-5fb0-4197-94a4-0acaa6400da6",
   "metadata": {},
   "source": [
    "### Distribution of USDC into Wallets,Smart contracts and Exchanges"
   ]
  },
  {
   "cell_type": "code",
   "execution_count": 25,
   "id": "c367a5e1-aaf0-47b7-91f0-ab5599b5a909",
   "metadata": {},
   "outputs": [
    {
     "data": {
      "text/html": [
       "\n",
       "        <iframe\n",
       "            width=\"1200\"\n",
       "            height=\"600\"\n",
       "            src=\"./total_distribution_usdc.html\"\n",
       "            frameborder=\"0\"\n",
       "            allowfullscreen\n",
       "        ></iframe>\n",
       "        "
      ],
      "text/plain": [
       "<IPython.lib.display.IFrame at 0x7fcee0a72fa0>"
      ]
     },
     "execution_count": 25,
     "metadata": {},
     "output_type": "execute_result"
    }
   ],
   "source": [
    "IFrame(src='./total_distribution_usdc.html', width=1200, height=600)"
   ]
  },
  {
   "cell_type": "markdown",
   "id": "c4aeb305-2ec2-407a-bfdd-02f75d1e68a0",
   "metadata": {},
   "source": [
    "### Running the numbers for USDC distribution"
   ]
  },
  {
   "cell_type": "markdown",
   "id": "12ffdb5d",
   "metadata": {},
   "source": [
    "<img src=\"total-usdc.png\" alt=\"Drawing\" style=\"width: 500px;height:250px\"/>"
   ]
  },
  {
   "cell_type": "markdown",
   "id": "d1f90824",
   "metadata": {},
   "source": [
    "### Distribution of USDC into Exchanges"
   ]
  },
  {
   "cell_type": "code",
   "execution_count": 26,
   "id": "6bff78fd",
   "metadata": {
    "scrolled": true
   },
   "outputs": [
    {
     "data": {
      "text/html": [
       "\n",
       "        <iframe\n",
       "            width=\"1000\"\n",
       "            height=\"800\"\n",
       "            src=\"./exchange_usdc.html\"\n",
       "            frameborder=\"0\"\n",
       "            allowfullscreen\n",
       "        ></iframe>\n",
       "        "
      ],
      "text/plain": [
       "<IPython.lib.display.IFrame at 0x7fcee0b7d040>"
      ]
     },
     "execution_count": 26,
     "metadata": {},
     "output_type": "execute_result"
    }
   ],
   "source": [
    "IFrame(src='./exchange_usdc.html', width=1000, height=800)"
   ]
  },
  {
   "cell_type": "markdown",
   "id": "4603884c",
   "metadata": {},
   "source": [
    "### Running the numbers for Exchange distribution"
   ]
  },
  {
   "cell_type": "markdown",
   "id": "7e1f2c9b",
   "metadata": {},
   "source": [
    "<img src=\"exchange-usdc.png\" alt=\"Drawing\" style=\"width: 700px;height:400px\"/>"
   ]
  },
  {
   "cell_type": "markdown",
   "id": "55d36164",
   "metadata": {},
   "source": [
    "### Distribution of USDC into Smart Contracts"
   ]
  },
  {
   "cell_type": "code",
   "execution_count": 27,
   "id": "3a16ec33",
   "metadata": {},
   "outputs": [
    {
     "data": {
      "text/html": [
       "\n",
       "        <iframe\n",
       "            width=\"1000\"\n",
       "            height=\"800\"\n",
       "            src=\"./smart_contract_usdc.html\"\n",
       "            frameborder=\"0\"\n",
       "            allowfullscreen\n",
       "        ></iframe>\n",
       "        "
      ],
      "text/plain": [
       "<IPython.lib.display.IFrame at 0x7fcee0b7d3a0>"
      ]
     },
     "execution_count": 27,
     "metadata": {},
     "output_type": "execute_result"
    }
   ],
   "source": [
    "IFrame(src='./smart_contract_usdc.html', width=1000, height=800)"
   ]
  },
  {
   "cell_type": "markdown",
   "id": "3ee3025a",
   "metadata": {},
   "source": [
    "### Running the numbers for Smart contract distribution"
   ]
  },
  {
   "cell_type": "markdown",
   "id": "4b56a586",
   "metadata": {},
   "source": [
    "<img src=\"smart-contract-usdc.png\" alt=\"Drawing\" style=\"width: 600px;height:300px\"/>"
   ]
  },
  {
   "cell_type": "markdown",
   "id": "581665b5",
   "metadata": {},
   "source": [
    "### Distribution of USDC into other wallets"
   ]
  },
  {
   "cell_type": "code",
   "execution_count": 28,
   "id": "327b40e5",
   "metadata": {
    "scrolled": false
   },
   "outputs": [
    {
     "data": {
      "text/html": [
       "\n",
       "        <iframe\n",
       "            width=\"1000\"\n",
       "            height=\"800\"\n",
       "            src=\"./other_wallet_usdc.html\"\n",
       "            frameborder=\"0\"\n",
       "            allowfullscreen\n",
       "        ></iframe>\n",
       "        "
      ],
      "text/plain": [
       "<IPython.lib.display.IFrame at 0x7fcee0b7d5b0>"
      ]
     },
     "execution_count": 28,
     "metadata": {},
     "output_type": "execute_result"
    }
   ],
   "source": [
    "IFrame(src='./other_wallet_usdc.html', width=1000, height=800)"
   ]
  },
  {
   "cell_type": "markdown",
   "id": "75b83328",
   "metadata": {},
   "source": [
    "### Running the numbers for other wallets distribution"
   ]
  },
  {
   "cell_type": "markdown",
   "id": "9d7f8a90",
   "metadata": {},
   "source": [
    "<img src=\"other-wallet-usdc.png\" alt=\"Drawing\" style=\"width: 600px;height:300px\"/>"
   ]
  },
  {
   "cell_type": "code",
   "execution_count": null,
   "id": "10e9eb86",
   "metadata": {},
   "outputs": [],
   "source": []
  }
 ],
 "metadata": {
  "kernelspec": {
   "display_name": "Python 3",
   "language": "python",
   "name": "python3"
  },
  "language_info": {
   "codemirror_mode": {
    "name": "ipython",
    "version": 3
   },
   "file_extension": ".py",
   "mimetype": "text/x-python",
   "name": "python",
   "nbconvert_exporter": "python",
   "pygments_lexer": "ipython3",
   "version": "3.8.8"
  }
 },
 "nbformat": 4,
 "nbformat_minor": 5
}
